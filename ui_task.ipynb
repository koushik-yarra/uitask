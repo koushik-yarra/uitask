{
 "cells": [
  {
   "cell_type": "code",
   "execution_count": 28,
   "id": "9179e0fe-ea90-4d02-97ba-8927535ae111",
   "metadata": {},
   "outputs": [
    {
     "data": {
      "text/plain": [
       "['UserDetails.csv', 'CookingSessions.csv', 'OrderDetails.csv']"
      ]
     },
     "execution_count": 28,
     "metadata": {},
     "output_type": "execute_result"
    }
   ],
   "source": [
    "import pandas as pd\n",
    "\n",
    "# Load the Excel file to explore its structure\n",
    "file_path = 'internship.xlsx'\n",
    "excel_data = pd.ExcelFile(file_path)\n",
    "\n",
    "# Extract sheet names to understand dataset structure\n",
    "sheet_names = excel_data.sheet_names\n",
    "sheet_names\n"
   ]
  },
  {
   "cell_type": "code",
   "execution_count": 30,
   "id": "91693c51-28c0-4ba3-b228-1ab08342dd80",
   "metadata": {},
   "outputs": [],
   "source": [
    "user_details = excel_data.parse('UserDetails.csv')\n",
    "cooking_sessions = excel_data.parse('CookingSessions.csv')\n",
    "order_details = excel_data.parse('OrderDetails.csv')"
   ]
  },
  {
   "cell_type": "code",
   "execution_count": 31,
   "id": "e251e518-ca32-4703-ab9a-f2f84626c0f5",
   "metadata": {},
   "outputs": [
    {
     "name": "stdout",
     "output_type": "stream",
     "text": [
      "User ID              0\n",
      "User Name            0\n",
      "Age                  0\n",
      "Location             0\n",
      "Registration Date    0\n",
      "Phone                0\n",
      "Email                0\n",
      "Favorite Meal        0\n",
      "Total Orders         0\n",
      "dtype: int64\n"
     ]
    }
   ],
   "source": [
    "#chcecking null values\n",
    "print(user_details.isnull().sum())"
   ]
  },
  {
   "cell_type": "code",
   "execution_count": 32,
   "id": "720cf350-ae13-415c-b58c-12e94b767691",
   "metadata": {},
   "outputs": [
    {
     "name": "stdout",
     "output_type": "stream",
     "text": [
      "Session ID         0\n",
      "User ID            0\n",
      "Dish Name          0\n",
      "Meal Type          0\n",
      "Session Start      0\n",
      "Session End        0\n",
      "Duration (mins)    0\n",
      "Session Rating     0\n",
      "dtype: int64\n"
     ]
    }
   ],
   "source": [
    "print(cooking_sessions.isnull().sum())"
   ]
  },
  {
   "cell_type": "code",
   "execution_count": 33,
   "id": "3764fec7-30c2-4854-95ff-b9c73f6bf586",
   "metadata": {},
   "outputs": [
    {
     "name": "stdout",
     "output_type": "stream",
     "text": [
      "Order ID        0\n",
      "User ID         0\n",
      "Order Date      0\n",
      "Meal Type       0\n",
      "Dish Name       0\n",
      "Order Status    0\n",
      "Amount (USD)    0\n",
      "Time of Day     0\n",
      "Rating          2\n",
      "Session ID      0\n",
      "dtype: int64\n"
     ]
    }
   ],
   "source": [
    "# checking null values\n",
    "print(order_details.isnull().sum())"
   ]
  },
  {
   "cell_type": "code",
   "execution_count": 34,
   "id": "9bff1554-8747-4365-b873-6edef1f0b45c",
   "metadata": {},
   "outputs": [],
   "source": [
    "# removing null values\n",
    "order_details.dropna(inplace=True)"
   ]
  },
  {
   "cell_type": "code",
   "execution_count": 36,
   "id": "97ca7879-8177-4ff6-b4aa-89564deb6b1c",
   "metadata": {},
   "outputs": [],
   "source": [
    "# Convert data types\n",
    "order_details['Order Date'] = pd.to_datetime(order_details['Order Date'])  # Convert dates to datetime\n"
   ]
  },
  {
   "cell_type": "code",
   "execution_count": 37,
   "id": "f17634fe-0d5c-41ce-8f7c-396b9d180802",
   "metadata": {},
   "outputs": [],
   "source": [
    "# Detect outliers (using z-score)\n",
    "from scipy.stats import zscore\n",
    "user_details['z_age'] = zscore(user_details['Age'])\n",
    "user_details = user_details[user_details['z_age'].abs() < 3]  # Keep only rows with z-score < 3\n"
   ]
  },
  {
   "cell_type": "code",
   "execution_count": 43,
   "id": "45b9bff2-c5d0-4a4b-b892-c4c97ff832db",
   "metadata": {},
   "outputs": [
    {
     "name": "stdout",
     "output_type": "stream",
     "text": [
      "Data preprocessing completed and saved as 'Data.csv'.\n"
     ]
    }
   ],
   "source": [
    "merged_data = pd.merge(user_details, cooking_sessions, on='User ID', how='inner')\n",
    "merged_data = pd.merge(merged_data, order_details, on='User ID', how='inner')\n",
    "\n",
    "# Save preprocessed data\n",
    "merged_data.to_csv('Data.csv', index=False)\n",
    "\n",
    "print(\"Data preprocessing completed and saved as 'Data.csv'.\")"
   ]
  },
  {
   "cell_type": "code",
   "execution_count": 44,
   "id": "8a26d61b-3ec5-4e17-99e3-f694eab56b9e",
   "metadata": {},
   "outputs": [],
   "source": [
    "df=pd.read_csv('Data.csv')"
   ]
  },
  {
   "cell_type": "code",
   "execution_count": 45,
   "id": "2e25b61d-3065-45b2-9eea-f532f0e4e90c",
   "metadata": {},
   "outputs": [
    {
     "name": "stdout",
     "output_type": "stream",
     "text": [
      "<class 'pandas.core.frame.DataFrame'>\n",
      "RangeIndex: 32 entries, 0 to 31\n",
      "Data columns (total 26 columns):\n",
      " #   Column             Non-Null Count  Dtype  \n",
      "---  ------             --------------  -----  \n",
      " 0   User ID            32 non-null     object \n",
      " 1   User Name          32 non-null     object \n",
      " 2   Age                32 non-null     int64  \n",
      " 3   Location           32 non-null     object \n",
      " 4   Registration Date  32 non-null     object \n",
      " 5   Phone              32 non-null     object \n",
      " 6   Email              32 non-null     object \n",
      " 7   Favorite Meal      32 non-null     object \n",
      " 8   Total Orders       32 non-null     int64  \n",
      " 9   z_age              32 non-null     float64\n",
      " 10  Session ID_x       32 non-null     object \n",
      " 11  Dish Name_x        32 non-null     object \n",
      " 12  Meal Type_x        32 non-null     object \n",
      " 13  Session Start      32 non-null     object \n",
      " 14  Session End        32 non-null     object \n",
      " 15  Duration (mins)    32 non-null     int64  \n",
      " 16  Session Rating     32 non-null     float64\n",
      " 17  Order ID           32 non-null     int64  \n",
      " 18  Order Date         32 non-null     object \n",
      " 19  Meal Type_y        32 non-null     object \n",
      " 20  Dish Name_y        32 non-null     object \n",
      " 21  Order Status       32 non-null     object \n",
      " 22  Amount (USD)       32 non-null     float64\n",
      " 23  Time of Day        32 non-null     object \n",
      " 24  Rating             32 non-null     float64\n",
      " 25  Session ID_y       32 non-null     object \n",
      "dtypes: float64(4), int64(4), object(18)\n",
      "memory usage: 6.6+ KB\n"
     ]
    }
   ],
   "source": [
    "df.info()"
   ]
  },
  {
   "cell_type": "code",
   "execution_count": 46,
   "id": "86862929-c85b-43e0-9037-d42dbc0c35b3",
   "metadata": {},
   "outputs": [
    {
     "data": {
      "text/plain": [
       "User ID              0\n",
       "User Name            0\n",
       "Age                  0\n",
       "Location             0\n",
       "Registration Date    0\n",
       "Phone                0\n",
       "Email                0\n",
       "Favorite Meal        0\n",
       "Total Orders         0\n",
       "z_age                0\n",
       "Session ID_x         0\n",
       "Dish Name_x          0\n",
       "Meal Type_x          0\n",
       "Session Start        0\n",
       "Session End          0\n",
       "Duration (mins)      0\n",
       "Session Rating       0\n",
       "Order ID             0\n",
       "Order Date           0\n",
       "Meal Type_y          0\n",
       "Dish Name_y          0\n",
       "Order Status         0\n",
       "Amount (USD)         0\n",
       "Time of Day          0\n",
       "Rating               0\n",
       "Session ID_y         0\n",
       "dtype: int64"
      ]
     },
     "execution_count": 46,
     "metadata": {},
     "output_type": "execute_result"
    }
   ],
   "source": [
    "df.isnull().sum()"
   ]
  },
  {
   "cell_type": "code",
   "execution_count": 50,
   "id": "8aecb314-5c4a-4729-838e-0a7b29768508",
   "metadata": {},
   "outputs": [
    {
     "name": "stdout",
     "output_type": "stream",
     "text": [
      "Correlation between Cooking Sessions and Orders:\n",
      "               TotalSessions  TotalOrders\n",
      "TotalSessions            1.0          1.0\n",
      "TotalOrders              1.0          1.0\n"
     ]
    }
   ],
   "source": [
    "# Group data by UserID and calculate counts\n",
    "sessions_per_user = df.groupby('User ID')['Session ID_x'].count().rename('TotalSessions')\n",
    "orders_per_user = df.groupby('User ID')['Order ID'].count().rename('TotalOrders')\n",
    "\n",
    "# Merge the aggregated data\n",
    "user_activity = pd.concat([sessions_per_user, orders_per_user], axis=1)\n",
    "\n",
    "# Correlation analysis\n",
    "correlation = user_activity.corr()\n",
    "print(\"Correlation between Cooking Sessions and Orders:\")\n",
    "print(correlation)\n"
   ]
  },
  {
   "cell_type": "code",
   "execution_count": 53,
   "id": "41c11c00-dbab-431e-bba7-41665a789b3f",
   "metadata": {},
   "outputs": [
    {
     "name": "stdout",
     "output_type": "stream",
     "text": [
      "Top 10 Popular Dishes:\n",
      "Dish Name_y\n",
      "Spaghetti          9\n",
      "Caesar Salad       7\n",
      "Pancakes           6\n",
      "Grilled Chicken    6\n",
      "Oatmeal            3\n",
      "Veggie Burger      1\n",
      "Name: count, dtype: int64\n"
     ]
    }
   ],
   "source": [
    "# Calculate dish frequency\n",
    "popular_dishes = df['Dish Name_y'].value_counts()\n",
    "\n",
    "# Display top 10 popular dishes\n",
    "print(\"Top 10 Popular Dishes:\")\n",
    "print(popular_dishes.head(10))\n"
   ]
  },
  {
   "cell_type": "code",
   "execution_count": 54,
   "id": "142e44b4-3950-4435-8d5f-77bfd0efb488",
   "metadata": {},
   "outputs": [
    {
     "name": "stdout",
     "output_type": "stream",
     "text": [
      "Demographic Analysis by Age Group:\n",
      "          TotalSessions  TotalOrders\n",
      "AgeGroup                            \n",
      "0-20                  0            0\n",
      "21-30                18           18\n",
      "31-40                11           11\n",
      "41-50                 3            3\n",
      "51-60                 0            0\n",
      "60+                   0            0\n"
     ]
    },
    {
     "name": "stderr",
     "output_type": "stream",
     "text": [
      "C:\\Users\\CHINNU\\AppData\\Local\\Temp\\ipykernel_12260\\3342591555.py:4: FutureWarning: The default of observed=False is deprecated and will be changed to True in a future version of pandas. Pass observed=False to retain current behavior or observed=True to adopt the future default and silence this warning.\n",
      "  demographic_analysis = df.groupby('AgeGroup').agg({'Session ID_x': 'count', 'Order ID': 'count'}).rename(\n"
     ]
    }
   ],
   "source": [
    "# Average sessions and orders by age group\n",
    "df['AgeGroup'] = pd.cut(df['Age'], bins=[0, 20, 30, 40, 50, 60, 100], labels=['0-20', '21-30', '31-40', '41-50', '51-60', '60+'])\n",
    "\n",
    "demographic_analysis = df.groupby('AgeGroup').agg({'Session ID_x': 'count', 'Order ID': 'count'}).rename(\n",
    "    columns={'Session ID_x': 'TotalSessions', 'Order ID': 'TotalOrders'}\n",
    ")\n",
    "\n",
    "print(\"Demographic Analysis by Age Group:\")\n",
    "print(demographic_analysis)\n"
   ]
  },
  {
   "cell_type": "code",
   "execution_count": 56,
   "id": "d949be58-2cdd-4bf6-8b73-e588b0569f40",
   "metadata": {},
   "outputs": [
    {
     "data": {
      "image/png": "[encoded data removed]",
      "text/plain": [
       "<Figure size 640x480 with 1 Axes>"
      ]
     },
     "metadata": {},
     "output_type": "display_data"
    }
   ],
   "source": [
    "import matplotlib.pyplot as plt\n",
    "# relationship between cooking sessions and orders\n",
    "plt.scatter(user_activity['TotalSessions'], user_activity['TotalOrders'])\n",
    "plt.title(\"Relationship Between Cooking Sessions and Orders\")\n",
    "plt.xlabel(\"Total Sessions\")\n",
    "plt.ylabel(\"Total Orders\")\n",
    "plt.show()\n"
   ]
  },
  {
   "cell_type": "code",
   "execution_count": 57,
   "id": "4f9c91d4-ac03-45e6-ba9d-ffbecd4d93d7",
   "metadata": {},
   "outputs": [
    {
     "data": {
      "image/png": "[encoded data removed]",
      "text/plain": [
       "<Figure size 640x480 with 1 Axes>"
      ]
     },
     "metadata": {},
     "output_type": "display_data"
    }
   ],
   "source": [
    "# popular dishes\n",
    "popular_dishes.head(10).plot(kind='bar', title=\"Top 10 Popular Dishes\")\n",
    "plt.xlabel(\"Dish Name\")\n",
    "plt.ylabel(\"Frequency\")\n",
    "plt.show()\n"
   ]
  },
  {
   "cell_type": "code",
   "execution_count": 58,
   "id": "2b0448e6-d8b2-440d-91ab-b01e540f238f",
   "metadata": {},
   "outputs": [
    {
     "data": {
      "image/png": "[encoded data removed]",
      "text/plain": [
       "<Figure size 640x480 with 1 Axes>"
      ]
     },
     "metadata": {},
     "output_type": "display_data"
    }
   ],
   "source": [
    "demographic_analysis.plot(kind='bar', stacked=True, title=\"Sessions and Orders by Age Group\")\n",
    "plt.xlabel(\"Age Group\")\n",
    "plt.ylabel(\"Count\")\n",
    "plt.show()"
   ]
  },
  {
   "cell_type": "code",
   "execution_count": null,
   "id": "14eba3ab-d9e8-4508-a159-e3cf2c44372c",
   "metadata": {},
   "outputs": [],
   "source": []
  }
 ],
 "metadata": {
  "kernelspec": {
   "display_name": "Python 3 (ipykernel)",
   "language": "python",
   "name": "python3"
  },
  "language_info": {
   "codemirror_mode": {
    "name": "ipython",
    "version": 3
   },
   "file_extension": ".py",
   "mimetype": "text/x-python",
   "name": "python",
   "nbconvert_exporter": "python",
   "pygments_lexer": "ipython3",
   "version": "3.12.4"
  }
 },
 "nbformat": 4,
 "nbformat_minor": 5
}
